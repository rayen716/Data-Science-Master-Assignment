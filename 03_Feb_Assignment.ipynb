{
 "cells": [
  {
   "cell_type": "code",
   "execution_count": 2,
   "id": "95e125fb-7942-471f-a7d4-6103fe2c1898",
   "metadata": {},
   "outputs": [
    {
     "name": "stdin",
     "output_type": "stream",
     "text": [
      "Enter the start of range: 1\n",
      "Enter the end of range: 25\n"
     ]
    },
    {
     "name": "stdout",
     "output_type": "stream",
     "text": [
      "1\n",
      "3\n",
      "5\n",
      "7\n",
      "9\n",
      "11\n",
      "13\n",
      "15\n",
      "17\n",
      "19\n",
      "21\n",
      "23\n",
      "25\n"
     ]
    }
   ],
   "source": [
    "Q1. Which keyword is used to create a function? Create a function to return a list of odd numbers in therange of 1 to 25?\n",
    "Ans 1- The def keyword is used to create, (or define) a function.\n",
    "# Python program to print odd Numbers in given range\n",
    "\n",
    "start = int(input(\"Enter the start of range:\"))\n",
    "end = int(input(\"Enter the end of range:\"))\n",
    "\n",
    "for num in range(start, end + 1):\n",
    "    if num % 2 != 0:\n",
    "        print(num)"
   ]
  },
  {
   "cell_type": "code",
   "execution_count": 3,
   "id": "6fa6c43c-0398-4262-a854-12b4dfc9d3b9",
   "metadata": {},
   "outputs": [],
   "source": [
    "Q2. Why *args and **kwargs is used in some functions? Create a function each for *args and **kwargs todemonstrate their use?\n",
    "Ans 2- We use *args and **kwargs as an argument when we are unsure about the number of arguments to pass in the functions.\n",
    "def test5(**kwargs):\n",
    "    return kwargs\n",
    "def test1(*args):\n",
    "    return args"
   ]
  },
  {
   "cell_type": "code",
   "execution_count": null,
   "id": "179faeab-cb4b-4bc8-98f0-3a18920112c2",
   "metadata": {},
   "outputs": [],
   "source": [
    "Q3. What is an iterator in python? Name the method used to initialise the iterator object and the method used for iteration. Use these methods to print the first five elements of the given list [2, 4, 6, 8, 10, 12, 14, 16, 18, 20]?\n",
    "Ans 3- An iterator is an object that contains a countable number of values. An iterator is an object that can be iterated upon, meaning that you can traverse through all the values.\n",
    "__iter__(): The iter() method is called for the initialization of an iterator. This returns an iterator object\n",
    "__next__(): The next method returns the next value for the iterable. \n",
    "\n",
    "list = [2, 4, 6, 8, 10, 12, 14, 16, 18, 20]\n",
    "ch_iterator = iter(list)\n",
    "\n",
    "print(next(ch_iterator))\n",
    "print(next(ch_iterator))\n",
    "print(next(ch_iterator))\n",
    "print(next(ch_iterator))\n",
    "print(next(ch_iterator))"
   ]
  },
  {
   "cell_type": "code",
   "execution_count": null,
   "id": "bd868303-2f01-423f-80e4-79ce2d11bf65",
   "metadata": {},
   "outputs": [],
   "source": [
    "Q4. What is a generator function in python? Why yield keyword is used? Give an example of a generator function?\n",
    "Ans 4- Python Generator functions allow you to declare a function that behaves likes an iterator, allowing programmers to make an iterator in a fast, easy, and clean way.\n",
    "yield keyword is used to create a generator function. \n",
    "\n",
    "def test_fib(n):\n",
    "    a,b = 0,1\n",
    "    for i in range(n):\n",
    "        yield a\n",
    "        a,b = b ,a+b\n",
    "\n",
    "for i in test_fib(10):\n",
    "    print(i)"
   ]
  },
  {
   "cell_type": "code",
   "execution_count": null,
   "id": "904346c7-668f-4638-89dc-6a788838b21c",
   "metadata": {},
   "outputs": [],
   "source": [
    "Q5. Create a generator function for prime numbers less than 1000. Use the next() method to print the first 20 prime numbers?\n",
    "Ans 5- def isPrime(n):\n",
    "\n",
    "\n",
    "if n <= 1 :\n",
    "    return False\n",
    "\n",
    "\n",
    "for i in range(2, n):\n",
    "if n % i == 0:\n",
    "    return False\n",
    "return True\n",
    "\n",
    "\n",
    "def printPrime(n):\n",
    "    for i in range(2, n + 1):\n",
    "        if isPrime(i):\n",
    "            print(i, end = \" \")\n",
    "\n",
    "\n",
    "if __name__ == \"__main__\" :\n",
    "    n = 1000\n",
    "    printPrime(n)"
   ]
  },
  {
   "cell_type": "code",
   "execution_count": null,
   "id": "1be61843-53e7-4625-aa36-45ce278d3754",
   "metadata": {},
   "outputs": [],
   "source": []
  }
 ],
 "metadata": {
  "kernelspec": {
   "display_name": "Python 3 (ipykernel)",
   "language": "python",
   "name": "python3"
  },
  "language_info": {
   "codemirror_mode": {
    "name": "ipython",
    "version": 3
   },
   "file_extension": ".py",
   "mimetype": "text/x-python",
   "name": "python",
   "nbconvert_exporter": "python",
   "pygments_lexer": "ipython3",
   "version": "3.10.8"
  }
 },
 "nbformat": 4,
 "nbformat_minor": 5
}
